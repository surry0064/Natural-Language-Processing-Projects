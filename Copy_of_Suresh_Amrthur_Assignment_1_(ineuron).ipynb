{
  "nbformat": 4,
  "nbformat_minor": 0,
  "metadata": {
    "colab": {
      "name": "Copy of Suresh Amrthur Assignment 1 (ineuron)",
      "provenance": [],
      "collapsed_sections": [],
      "authorship_tag": "ABX9TyPrbP1OVtnCvR3JROX6xOkg",
      "include_colab_link": true
    },
    "kernelspec": {
      "name": "python3",
      "display_name": "Python 3"
    }
  },
  "cells": [
    {
      "cell_type": "markdown",
      "metadata": {
        "id": "view-in-github",
        "colab_type": "text"
      },
      "source": [
        "<a href=\"https://colab.research.google.com/github/surry0064/Natural-Language-Processing-Projects/blob/master/Copy_of_Suresh_Amrthur_Assignment_1_(ineuron).ipynb\" target=\"_parent\"><img src=\"https://colab.research.google.com/assets/colab-badge.svg\" alt=\"Open In Colab\"/></a>"
      ]
    },
    {
      "cell_type": "code",
      "metadata": {
        "id": "laU7_KfeDzeH",
        "colab_type": "code",
        "colab": {}
      },
      "source": [
        ""
      ],
      "execution_count": null,
      "outputs": []
    },
    {
      "cell_type": "markdown",
      "metadata": {
        "id": "ng3FpORuEdEZ",
        "colab_type": "text"
      },
      "source": [
        "1. Write a program which will find all such numbers which are divisible by 7 but are not a 2. Write a Python program to accept the user's first and last name and then getting them 3. Write a Python program to find the volume of a sphere with diameter 12 cm.\n"
      ]
    },
    {
      "cell_type": "markdown",
      "metadata": {
        "id": "9KpudRuVEkJK",
        "colab_type": "text"
      },
      "source": [
        ""
      ]
    },
    {
      "cell_type": "code",
      "metadata": {
        "id": "aLRf_J83Epiq",
        "colab_type": "code",
        "colab": {
          "base_uri": "https://localhost:8080/",
          "height": 55
        },
        "outputId": "b6b9aaae-1cbb-49fb-e119-c4e95c715e68"
      },
      "source": [
        "#Solution to  Question 1\n",
        "l=[]\n",
        "\n",
        "for i in range (2000,3200):\n",
        "  if i%7 == 0 and i%5 != 0: \n",
        "      if i>= 2000 or i<= 3200:\n",
        "            l.append (i)\n",
        "                      \n",
        "else:\n",
        "    print (l)"
      ],
      "execution_count": null,
      "outputs": [
        {
          "output_type": "stream",
          "text": [
            "[2002, 2009, 2016, 2023, 2037, 2044, 2051, 2058, 2072, 2079, 2086, 2093, 2107, 2114, 2121, 2128, 2142, 2149, 2156, 2163, 2177, 2184, 2191, 2198, 2212, 2219, 2226, 2233, 2247, 2254, 2261, 2268, 2282, 2289, 2296, 2303, 2317, 2324, 2331, 2338, 2352, 2359, 2366, 2373, 2387, 2394, 2401, 2408, 2422, 2429, 2436, 2443, 2457, 2464, 2471, 2478, 2492, 2499, 2506, 2513, 2527, 2534, 2541, 2548, 2562, 2569, 2576, 2583, 2597, 2604, 2611, 2618, 2632, 2639, 2646, 2653, 2667, 2674, 2681, 2688, 2702, 2709, 2716, 2723, 2737, 2744, 2751, 2758, 2772, 2779, 2786, 2793, 2807, 2814, 2821, 2828, 2842, 2849, 2856, 2863, 2877, 2884, 2891, 2898, 2912, 2919, 2926, 2933, 2947, 2954, 2961, 2968, 2982, 2989, 2996, 3003, 3017, 3024, 3031, 3038, 3052, 3059, 3066, 3073, 3087, 3094, 3101, 3108, 3122, 3129, 3136, 3143, 3157, 3164, 3171, 3178, 3192, 3199]\n"
          ],
          "name": "stdout"
        }
      ]
    },
    {
      "cell_type": "markdown",
      "metadata": {
        "id": "tNSHtrnPE90d",
        "colab_type": "text"
      },
      "source": [
        "2. Write a Python program to accept the user's first and last name and then getting them\n",
        "printed in the the reverse order with a space between first name and last name."
      ]
    },
    {
      "cell_type": "code",
      "metadata": {
        "id": "BYAI7RQQE8Xb",
        "colab_type": "code",
        "colab": {
          "base_uri": "https://localhost:8080/",
          "height": 156
        },
        "outputId": "7c30985b-e7bc-46bc-85b4-d54c7a3d3cde"
      },
      "source": [
        "a1 = str(input(\"enter your first name \"))\n",
        "b1 = str(input(\"enter your last name \"))\n",
        "# Method 1 to concatenate\n",
        "full= a1+ \" \" + b1\n",
        "\n",
        "#Method 2 to concatenate\n",
        "full1 = \" \".join ([a1,b1])\n",
        "#Method 3 to concatenate\n",
        "full2= f'{a1} {b1}'\n",
        "\n",
        "# Print each of the string variables which were concatenated with the above methods\n",
        "print (full)\n",
        "print (full1)\n",
        "print (full2)\n",
        "\n",
        "##Method1 : Reversal of string first method\n",
        "full5 = \" \"\n",
        "for i in full:\n",
        " full5 = i + full5\n",
        " ## Method 2 Reversal of string using reverse slicing method\n",
        "full4=full[::-1] \n",
        "## Method 3  Reversal of string using Join Method but with a space between each letter\n",
        "full6= \" \".join(reversed(full))\n",
        "\n",
        "\n",
        "### Printing String Variables after reversals using various methods\n",
        "print (full5)\n",
        "print (full4)\n",
        "print(full6)"
      ],
      "execution_count": null,
      "outputs": [
        {
          "output_type": "stream",
          "text": [
            "enter your first name John\n",
            "enter your last name Smith\n",
            "John Smith\n",
            "John Smith\n",
            "John Smith\n",
            "htimS nhoJ \n",
            "htimS nhoJ\n",
            "h t i m S   n h o J\n"
          ],
          "name": "stdout"
        }
      ]
    },
    {
      "cell_type": "markdown",
      "metadata": {
        "id": "G4CAbeq-HpfZ",
        "colab_type": "text"
      },
      "source": [
        "3. Write a Python program to find the volume of a sphere with diameter 12 cm.\n",
        "\n",
        "Formula: V=4/3 * π * r 3"
      ]
    },
    {
      "cell_type": "code",
      "metadata": {
        "id": "5IdP-E2XHstN",
        "colab_type": "code",
        "colab": {
          "base_uri": "https://localhost:8080/",
          "height": 69
        },
        "outputId": "cfce33b6-cd62-4b31-9617-a0c68b72a215"
      },
      "source": [
        "##Solution to Problem 3\n",
        "\n",
        "d = int(input(\"enter diameter of Sphere \"))\n",
        "r = d/2\n",
        "print(\"radius of the sphere is:\", r )\n",
        "\n",
        "v=4/3*22/7*r**3\n",
        "print (\"The volume of the sphere is\", v)"
      ],
      "execution_count": null,
      "outputs": [
        {
          "output_type": "stream",
          "text": [
            "enter diameter of Sphere 30\n",
            "radius of the sphere is: 15.0\n",
            "The volume of the sphere is 14142.857142857143\n"
          ],
          "name": "stdout"
        }
      ]
    }
  ]
}